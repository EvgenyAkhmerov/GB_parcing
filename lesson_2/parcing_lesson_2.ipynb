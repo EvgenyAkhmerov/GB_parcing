{
 "cells": [
  {
   "cell_type": "code",
   "execution_count": 1,
   "id": "b43aa2a2",
   "metadata": {},
   "outputs": [],
   "source": [
    "from pprint import pprint\n",
    "from lxml import html\n",
    "import requests\n",
    "import pandas as pd"
   ]
  },
  {
   "cell_type": "markdown",
   "id": "f793d3da",
   "metadata": {},
   "source": [
    "#### Написать приложение и функцию, которые собирают основные новости с сайта на выбор dzen.ru, lenta.ru, mail.ru . Для парсинга использовать XPath\n",
    "Структура данных должна содержать:\n",
    "* название источника\n",
    "* наименование новости\n",
    "* ссылку на новость\n",
    "* дата публикации\n",
    "\n",
    "минимум один сайт максимум все\n",
    "\n",
    "Задание считается выполненным, если:\n",
    "- код задокументирован, парсер работает корректно\n",
    "- репозиторий в github имеет readme.md с описанием и структурой проекта (если сдача github, gitlab )\n",
    "- есть скриншоты результата выполнения задания\n",
    "\n",
    "ДЗ принимается ссылками на github, gitlab, colab"
   ]
  },
  {
   "cell_type": "code",
   "execution_count": null,
   "id": "b2657389",
   "metadata": {},
   "outputs": [],
   "source": [
    "def news():\n",
    "    \"\"\"\n",
    "    return dict of news\n",
    "    \"\"\"\n",
    "    \n",
    "    url_dict = {\n",
    "        'dzen': 'https://dzen.ru',\n",
    "        'lenta': 'https://lenta.ru/',\n",
    "        'mail': 'https://mail.ru/' \n",
    "    }\n",
    "    \n",
    "    news = {}\n",
    "    \n",
    "    for site, url in url_dict.items():\n",
    "        "
   ]
  },
  {
   "cell_type": "code",
   "execution_count": 29,
   "id": "5d69e1ab",
   "metadata": {},
   "outputs": [],
   "source": [
    "url = 'https://dzen.ru'\n",
    "response = requests.get(url)"
   ]
  },
  {
   "cell_type": "code",
   "execution_count": 39,
   "id": "6fe2ee9b",
   "metadata": {},
   "outputs": [],
   "source": [
    "dom = html.fromstring(response.text)"
   ]
  },
  {
   "cell_type": "code",
   "execution_count": 41,
   "id": "37d4303a",
   "metadata": {},
   "outputs": [
    {
     "data": {
      "text/plain": [
       "<Element span at 0x7fa0098b1130>"
      ]
     },
     "execution_count": 41,
     "metadata": {},
     "output_type": "execute_result"
    }
   ],
   "source": [
    "dom.xpath('//section//div[contains(@class, mg-grid)]')"
   ]
  },
  {
   "cell_type": "code",
   "execution_count": 27,
   "id": "cdcac073",
   "metadata": {},
   "outputs": [
    {
     "data": {
      "text/html": [
       "\n",
       "<!DOCTYPE HTML>\n",
       "<html>\n",
       "    <head>\n",
       "        <title>PAGE</title>\n",
       "    </head>\n",
       "    <body>\n",
       "        <h1>Заголовок</h1>\n",
       "        <div>\n",
       "            <h2>Раздел1</h2>\n",
       "            <p>Параграф1</p>\n",
       "        </div>\n",
       "        <div>\n",
       "            <h2>Раздел2</h2>\n",
       "            <p>Параграф1</p>\n",
       "            <p>Параграф2</p>\n",
       "        </div>\n",
       "        <div>\n",
       "            <h2>Раздел3</h2>\n",
       "        </div>\n",
       "    </body>\n",
       "</html>\n"
      ],
      "text/plain": [
       "<IPython.core.display.HTML object>"
      ]
     },
     "metadata": {},
     "output_type": "display_data"
    }
   ],
   "source": [
    "%%HTML\n",
    "\n",
    "<!DOCTYPE HTML>\n",
    "<html>\n",
    "    <head>\n",
    "        <title>PAGE</title>\n",
    "    </head>\n",
    "    <body>\n",
    "        <h1>Заголовок</h1>\n",
    "        <div>\n",
    "            <h2>Раздел1</h2>\n",
    "            <p>Параграф1</p>\n",
    "        </div>\n",
    "        <div>\n",
    "            <h2>Раздел2</h2>\n",
    "            <p>Параграф1</p>\n",
    "            <p>Параграф2</p>\n",
    "        </div>\n",
    "        <div>\n",
    "            <h2>Раздел3</h2>\n",
    "        </div>\n",
    "    </body>\n",
    "</html>"
   ]
  },
  {
   "cell_type": "code",
   "execution_count": 47,
   "id": "3846454c",
   "metadata": {},
   "outputs": [],
   "source": [
    "r = requests.get('https://books.toscrape.com')\n",
    "\n",
    "root = html.fromstring(r.content)\n",
    "articles = root.xpath('//article')\n",
    "\n",
    "for article in articles:\n",
    "    article.xpath()"
   ]
  },
  {
   "cell_type": "code",
   "execution_count": 49,
   "id": "24b9dc48",
   "metadata": {},
   "outputs": [
    {
     "data": {
      "text/plain": [
       "20"
      ]
     },
     "execution_count": 49,
     "metadata": {},
     "output_type": "execute_result"
    }
   ],
   "source": [
    "len(articles)"
   ]
  },
  {
   "cell_type": "code",
   "execution_count": 55,
   "id": "87e07206",
   "metadata": {},
   "outputs": [
    {
     "name": "stdout",
     "output_type": "stream",
     "text": [
      "A Light in the Attic\n",
      "media/cache/2c/da/2cdad67c44b002e7ead0cc35693c0e8b.jpg\n",
      "£51.77\n",
      "\n",
      "    \n",
      "\n",
      "Tipping the Velvet\n",
      "media/cache/26/0c/260c6ae16bce31c8f8c95daddd9f4a1c.jpg\n",
      "£53.74\n",
      "\n",
      "    \n",
      "\n",
      "Soumission\n",
      "media/cache/3e/ef/3eef99c9d9adef34639f510662022830.jpg\n",
      "£50.10\n",
      "\n",
      "    \n",
      "\n",
      "Sharp Objects\n",
      "media/cache/32/51/3251cf3a3412f53f339e42cac2134093.jpg\n",
      "£47.82\n",
      "\n",
      "    \n",
      "\n",
      "Sapiens: A Brief History of Humankind\n",
      "media/cache/be/a5/bea5697f2534a2f86a3ef27b5a8c12a6.jpg\n",
      "£54.23\n",
      "\n",
      "    \n",
      "\n",
      "The Requiem Red\n",
      "media/cache/68/33/68339b4c9bc034267e1da611ab3b34f8.jpg\n",
      "£22.65\n",
      "\n",
      "    \n",
      "\n",
      "The Dirty Little Secrets of Getting Your Dream Job\n",
      "media/cache/92/27/92274a95b7c251fea59a2b8a78275ab4.jpg\n",
      "£33.34\n",
      "\n",
      "    \n",
      "\n",
      "The Coming Woman: A Novel Based on the Life of the Infamous Feminist, Victoria Woodhull\n",
      "media/cache/3d/54/3d54940e57e662c4dd1f3ff00c78cc64.jpg\n",
      "£17.93\n",
      "\n",
      "    \n",
      "\n",
      "The Boys in the Boat: Nine Americans and Their Epic Quest for Gold at the 1936 Berlin Olympics\n",
      "media/cache/66/88/66883b91f6804b2323c8369331cb7dd1.jpg\n",
      "£22.60\n",
      "\n",
      "    \n",
      "\n",
      "The Black Maria\n",
      "media/cache/58/46/5846057e28022268153beff6d352b06c.jpg\n",
      "£52.15\n",
      "\n",
      "    \n",
      "\n",
      "Starving Hearts (Triangular Trade Trilogy, #1)\n",
      "media/cache/be/f4/bef44da28c98f905a3ebec0b87be8530.jpg\n",
      "£13.99\n",
      "\n",
      "    \n",
      "\n",
      "Shakespeare's Sonnets\n",
      "media/cache/10/48/1048f63d3b5061cd2f424d20b3f9b666.jpg\n",
      "£20.66\n",
      "\n",
      "    \n",
      "\n",
      "Set Me Free\n",
      "media/cache/5b/88/5b88c52633f53cacf162c15f4f823153.jpg\n",
      "£17.46\n",
      "\n",
      "    \n",
      "\n",
      "Scott Pilgrim's Precious Little Life (Scott Pilgrim #1)\n",
      "media/cache/94/b1/94b1b8b244bce9677c2f29ccc890d4d2.jpg\n",
      "£52.29\n",
      "\n",
      "    \n",
      "\n",
      "Rip it Up and Start Again\n",
      "media/cache/81/c4/81c4a973364e17d01f217e1188253d5e.jpg\n",
      "£35.02\n",
      "\n",
      "    \n",
      "\n",
      "Our Band Could Be Your Life: Scenes from the American Indie Underground, 1981-1991\n",
      "media/cache/54/60/54607fe8945897cdcced0044103b10b6.jpg\n",
      "£57.25\n",
      "\n",
      "    \n",
      "\n",
      "Olio\n",
      "media/cache/55/33/553310a7162dfbc2c6d19a84da0df9e1.jpg\n",
      "£23.88\n",
      "\n",
      "    \n",
      "\n",
      "Mesaerion: The Best Science Fiction Stories 1800-1849\n",
      "media/cache/09/a3/09a3aef48557576e1a85ba7efea8ecb7.jpg\n",
      "£37.59\n",
      "\n",
      "    \n",
      "\n",
      "Libertarianism for Beginners\n",
      "media/cache/0b/bc/0bbcd0a6f4bcd81ccb1049a52736406e.jpg\n",
      "£51.33\n",
      "\n",
      "    \n",
      "\n",
      "It's Only the Himalayas\n",
      "media/cache/27/a5/27a53d0bb95bdd88288eaf66c9230d7e.jpg\n",
      "£45.17\n",
      "\n",
      "    \n",
      "\n"
     ]
    }
   ],
   "source": [
    "for article in articles:\n",
    "    title = article.xpath('.//h3/a/@title')[0]\n",
    "    image = article.xpath('.//div[@class=\"image_container\"]/a/img/@src')[0]\n",
    "    price = article.xpath('.//p[@class=\"price_color\"]/text()')[0]\n",
    "    instock = article.xpath('.//p[contains(@class, \"instock\")]/text()')[0]\n",
    "    print(title + '\\n' + image + '\\n' + price + '\\n' + instock, end='\\n\\n')\n"
   ]
  },
  {
   "cell_type": "code",
   "execution_count": null,
   "id": "13b3ebde",
   "metadata": {},
   "outputs": [],
   "source": []
  }
 ],
 "metadata": {
  "kernelspec": {
   "display_name": "Python 3 (ipykernel)",
   "language": "python",
   "name": "python3"
  },
  "language_info": {
   "codemirror_mode": {
    "name": "ipython",
    "version": 3
   },
   "file_extension": ".py",
   "mimetype": "text/x-python",
   "name": "python",
   "nbconvert_exporter": "python",
   "pygments_lexer": "ipython3",
   "version": "3.9.7"
  }
 },
 "nbformat": 4,
 "nbformat_minor": 5
}
