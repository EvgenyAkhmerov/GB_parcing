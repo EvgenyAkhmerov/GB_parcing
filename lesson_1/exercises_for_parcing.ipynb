{
 "cells": [
  {
   "cell_type": "code",
   "execution_count": 1,
   "id": "f329b8e0",
   "metadata": {},
   "outputs": [],
   "source": [
    "import requests\n",
    "import json\n",
    "from pprint import pprint"
   ]
  },
  {
   "cell_type": "markdown",
   "id": "6475bcb9",
   "metadata": {},
   "source": [
    "#### 1. Посмотреть документацию к API GitHub, разобраться как вывести список репозиториев для конкретного пользователя, сохранить JSON-вывод в файле *.json."
   ]
  },
  {
   "cell_type": "code",
   "execution_count": 76,
   "id": "9418c668",
   "metadata": {},
   "outputs": [],
   "source": [
    "def get_repos(user: str):\n",
    "    \"\"\"\n",
    "    function return dict with info about users repositories\n",
    "    url: url adress of user on github\n",
    "    \"\"\"\n",
    "    \n",
    "    url = 'https://api.github.com/users/{}/repos'.format(user)\n",
    "    response = requests.get(url=url, headers=headers)\n",
    "    if response.ok:\n",
    "        return response.json()\n",
    "    else:\n",
    "        raise Exception('Error: Status code {}'.format(response.status_code))"
   ]
  },
  {
   "cell_type": "code",
   "execution_count": 82,
   "id": "e24bef0b",
   "metadata": {},
   "outputs": [],
   "source": [
    "user = 'EvgenyAkhmerov'\n",
    "response = get_repos(user)\n",
    "repos_list = []\n",
    "\n",
    "for repos in response:\n",
    "    repos_list.append(repos['name'])"
   ]
  },
  {
   "cell_type": "code",
   "execution_count": 86,
   "id": "7c348683",
   "metadata": {},
   "outputs": [],
   "source": [
    "with open('repositories_{}.json'.format(user), 'w') as f:\n",
    "    json.dump(repos_list, f)"
   ]
  },
  {
   "cell_type": "markdown",
   "id": "682e251d",
   "metadata": {},
   "source": [
    "#### 2. Изучить список открытых API (https://www.programmableweb.com/category/all/apis). Найти среди них любое, требующее авторизацию (любого типа). Выполнить запросы к нему, пройдя авторизацию. Ответ сервера записать в файл.\n",
    "Если нет желания заморачиваться с поиском, возьмите API вконтакте (https://vk.com/dev/first_guide). Сделайте запрос, чтобы получить список всех сообществ на которые вы подписаны."
   ]
  },
  {
   "cell_type": "code",
   "execution_count": 45,
   "id": "e22bb156",
   "metadata": {},
   "outputs": [],
   "source": [
    "def get_groups(user_id: str, access_token, v='5.131'):\n",
    "    \"\"\"\"\"\"\n",
    "    \n",
    "    url = 'https://api.vk.com/method/groups.get'\n",
    "    params = {\n",
    "        'extended': '1',\n",
    "        'user_id': user_id,\n",
    "        'v': v,\n",
    "        'access_token': access_token\n",
    "    }\n",
    "    response = requests.get(url=url, params=params)\n",
    "    if response.ok:\n",
    "        return response.json()\n",
    "    else:\n",
    "        raise Exception('Error: Status code {}'.format(response.status_code))\n",
    "    "
   ]
  },
  {
   "cell_type": "code",
   "execution_count": 70,
   "id": "90efc10c",
   "metadata": {},
   "outputs": [],
   "source": [
    "user_id = '177245383'\n",
    "access_token = # YOUR ACCESS_TOKEN\n",
    "response = get_groups(user_id)\n",
    "\n",
    "vk_groups = []\n",
    "for group in response['response']['items']:\n",
    "    vk_groups.append(group['name'])\n"
   ]
  },
  {
   "cell_type": "code",
   "execution_count": 71,
   "id": "d694bf50",
   "metadata": {},
   "outputs": [],
   "source": [
    "with open('vk_groups.json', 'w', encoding='UTF-8') as f:\n",
    "    json.dump(vk_groups, f)"
   ]
  }
 ],
 "metadata": {
  "kernelspec": {
   "display_name": "Python 3 (ipykernel)",
   "language": "python",
   "name": "python3"
  },
  "language_info": {
   "codemirror_mode": {
    "name": "ipython",
    "version": 3
   },
   "file_extension": ".py",
   "mimetype": "text/x-python",
   "name": "python",
   "nbconvert_exporter": "python",
   "pygments_lexer": "ipython3",
   "version": "3.9.7"
  }
 },
 "nbformat": 4,
 "nbformat_minor": 5
}
